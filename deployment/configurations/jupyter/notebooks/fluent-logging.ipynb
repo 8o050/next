{
 "cells": [
  {
   "cell_type": "markdown",
   "metadata": {},
   "source": [
    "# Test fluent logging system"
   ]
  },
  {
   "cell_type": "code",
   "execution_count": 1,
   "metadata": {},
   "outputs": [
    {
     "data": {
      "text/plain": [
       "True"
      ]
     },
     "execution_count": 1,
     "metadata": {},
     "output_type": "execute_result"
    }
   ],
   "source": [
    "from fluent import sender\n",
    "\n",
    "# Wait for the other servers to start (bad)\n",
    "# time.sleep( 3 )\n",
    "\n",
    "# Logging with Fluent\n",
    "fluentHost = 'fluent-server'\n",
    "logger = sender.FluentSender('python-client', host=fluentHost, port=24224)\n",
    "\n",
    "\n",
    "# send it\n",
    "logger.emit('init', {'val': 'toto'})\n",
    "logger.emit('init', {'number': 44})\n"
   ]
  },
  {
   "cell_type": "code",
   "execution_count": null,
   "metadata": {},
   "outputs": [],
   "source": []
  }
 ],
 "metadata": {
  "kernelspec": {
   "display_name": "Python 3",
   "language": "python",
   "name": "python3"
  },
  "language_info": {
   "codemirror_mode": {
    "name": "ipython",
    "version": 3
   },
   "file_extension": ".py",
   "mimetype": "text/x-python",
   "name": "python",
   "nbconvert_exporter": "python",
   "pygments_lexer": "ipython3",
   "version": "3.8.6"
  }
 },
 "nbformat": 4,
 "nbformat_minor": 4
}
