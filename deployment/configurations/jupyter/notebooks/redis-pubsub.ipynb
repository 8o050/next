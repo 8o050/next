{
 "cells": [
  {
   "cell_type": "markdown",
   "metadata": {},
   "source": [
    "# Test pubsub in Redis and send data to Fluent"
   ]
  },
  {
   "cell_type": "code",
   "execution_count": 6,
   "metadata": {},
   "outputs": [],
   "source": [
    "import redis\n",
    "import time\n",
    "\n",
    "from fluent import sender\n",
    "\n",
    "# Logging with Fluent\n",
    "fluentHost = 'fluent-server'\n",
    "#fluentHost = 'localhost'\n",
    "logger = sender.FluentSender('python-client', host=fluentHost, port=24224)\n",
    "logger.emit('init', {'val': 43})\n",
    "\n",
    "\n",
    "# REDIS\n",
    "# When using docker compose\n",
    "redisHost = 'redis-server'\n",
    "# Connect\n",
    "r = redis.Redis(host=redisHost, port=6379, db=0)\n",
    "\n",
    "# Listen to messages\n",
    "p = r.pubsub()\n",
    "\n",
    "def custom_handler(message):\n",
    "\t# do_something with the message\n",
    "\tprint(message)\n",
    "\t# Send a copy to log\n",
    "\tlogger.emit('message', message)\n",
    "\n",
    "# listen to all chanels\n",
    "p.psubscribe(**{'*':custom_handler})\n",
    "\n",
    "# Run in a thread for now\n",
    "thread = p.run_in_thread(sleep_time=0.001)\n"
   ]
  },
  {
   "cell_type": "code",
   "execution_count": null,
   "metadata": {},
   "outputs": [],
   "source": []
  }
 ],
 "metadata": {
  "kernelspec": {
   "display_name": "Python 3",
   "language": "python",
   "name": "python3"
  },
  "language_info": {
   "codemirror_mode": {
    "name": "ipython",
    "version": 3
   },
   "file_extension": ".py",
   "mimetype": "text/x-python",
   "name": "python",
   "nbconvert_exporter": "python",
   "pygments_lexer": "ipython3",
   "version": "3.8.6"
  }
 },
 "nbformat": 4,
 "nbformat_minor": 4
}
