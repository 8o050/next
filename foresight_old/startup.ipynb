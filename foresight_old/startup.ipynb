{
 "cells": [
  {
   "cell_type": "markdown",
   "metadata": {},
   "source": [
    "## Start the smartbit proxy"
   ]
  },
  {
   "cell_type": "code",
   "execution_count": 1,
   "metadata": {},
   "outputs": [
    {
     "name": "stdout",
     "output_type": "stream",
     "text": [
      "festive_torvalds\n",
      "---> I am in execute up\n",
      "    ---> generated an execute down\n",
      "---> I am in execute up\n",
      "    ---> generated an execute down\n",
      "---> I am in execute up\n",
      "    ---> generated an execute down\n",
      "---> I am in execute up\n",
      "    ---> generated an execute down\n"
     ]
    },
    {
     "name": "stderr",
     "output_type": "stream",
     "text": [
      "Exception in thread Thread-4:\n",
      "Traceback (most recent call last):\n",
      "  File \"/home/jovyan/notebooks/smartbits/proxy.py\", line 161, in execute\n",
      "    exec_data = __func(**json_command_info[\"action_params\"])\n",
      "TypeError: convert_bw() missing 1 required positional argument: 'wall_smartbit_id'\n",
      "\n",
      "During handling of the above exception, another exception occurred:\n",
      "\n",
      "Traceback (most recent call last):\n",
      "  File \"/opt/conda/lib/python3.8/threading.py\", line 932, in _bootstrap_inner\n",
      "    self.run()\n",
      "  File \"/opt/conda/lib/python3.8/site-packages/redis/client.py\", line 3718, in run\n",
      "    pubsub.get_message(ignore_subscribe_messages=True,\n",
      "  File \"/opt/conda/lib/python3.8/site-packages/redis/client.py\", line 3619, in get_message\n",
      "    return self.handle_message(response, ignore_subscribe_messages)\n",
      "  File \"/opt/conda/lib/python3.8/site-packages/redis/client.py\", line 3678, in handle_message\n",
      "    handler(message)\n",
      "  File \"/home/jovyan/notebooks/smartbits/proxy.py\", line 163, in execute\n",
      "    raise Exception(f\"Error running action {action} on smartbit_id {smartbit_id}\")\n",
      "Exception: Error running action convert_bw on smartbit_id 72ad3a36-14ad-43f5-9136-4b12202ccba3\n"
     ]
    },
    {
     "name": "stdout",
     "output_type": "stream",
     "text": [
      "---> I am in execute up\n"
     ]
    }
   ],
   "source": [
    "from smartbits.proxy import Proxy\n",
    "p = Proxy()\n",
    "wallname = p.instantiate_new_wall()\n",
    "print(wallname)"
   ]
  },
  {
   "cell_type": "code",
   "execution_count": null,
   "metadata": {},
   "outputs": [],
   "source": []
  }
 ],
 "metadata": {
  "kernelspec": {
   "display_name": "Python 3",
   "language": "python",
   "name": "python3"
  },
  "language_info": {
   "codemirror_mode": {
    "name": "ipython",
    "version": 3
   },
   "file_extension": ".py",
   "mimetype": "text/x-python",
   "name": "python",
   "nbconvert_exporter": "python",
   "pygments_lexer": "ipython3",
   "version": "3.8.6"
  }
 },
 "nbformat": 4,
 "nbformat_minor": 4
}
